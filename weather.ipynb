{
  "nbformat": 4,
  "nbformat_minor": 0,
  "metadata": {
    "colab": {
      "provenance": [],
      "authorship_tag": "ABX9TyNTrJ0nXcu7Vs+R5OHD1Fn2",
      "include_colab_link": true
    },
    "kernelspec": {
      "name": "python3",
      "display_name": "Python 3"
    },
    "language_info": {
      "name": "python"
    }
  },
  "cells": [
    {
      "cell_type": "markdown",
      "metadata": {
        "id": "view-in-github",
        "colab_type": "text"
      },
      "source": [
        "<a href=\"https://colab.research.google.com/github/Uladzimir1367/Big-Data/blob/main/weather.ipynb\" target=\"_parent\"><img src=\"https://colab.research.google.com/assets/colab-badge.svg\" alt=\"Open In Colab\"/></a>"
      ]
    },
    {
      "cell_type": "code",
      "execution_count": 85,
      "metadata": {
        "id": "9KQH0PD3e2G-"
      },
      "outputs": [],
      "source": [
        "import requests\n",
        "import json"
      ]
    },
    {
      "cell_type": "code",
      "source": [
        "api_key = '8da64a3dc1e4ff6f51031857b573f9ba'"
      ],
      "metadata": {
        "id": "NDNi1Sq8fObR"
      },
      "execution_count": 86,
      "outputs": []
    },
    {
      "cell_type": "markdown",
      "source": [
        "# Список городов"
      ],
      "metadata": {
        "id": "RCkAvFN9A8HS"
      }
    },
    {
      "cell_type": "code",
      "source": [
        " cities = ['Минск', 'Торонто', 'Мадрид']"
      ],
      "metadata": {
        "id": "36QST3ghBDmm"
      },
      "execution_count": 87,
      "outputs": []
    },
    {
      "cell_type": "markdown",
      "source": [
        "# Функция для получения данных о погоде\n"
      ],
      "metadata": {
        "id": "HxI9uAZgfvCd"
      }
    },
    {
      "cell_type": "code",
      "source": [
        "def get_weather(city, api_key):\n",
        "  base_url = \"http://api.openweathermap.org/data/2.5/weather\"\n",
        "  params = {\n",
        "  'q': city,\n",
        "  'appid': api_key,\n",
        "  'units': 'metric',\n",
        "  'lang': 'ru'\n",
        "  }\n",
        "  response = requests.get(base_url, params=params)\n",
        "  return response.json()"
      ],
      "metadata": {
        "id": "PhwxubbgBkvi"
      },
      "execution_count": 88,
      "outputs": []
    },
    {
      "cell_type": "markdown",
      "source": [
        "# Словарь для хранения данных о погоде"
      ],
      "metadata": {
        "id": "Pb9dqajxCDPL"
      }
    },
    {
      "cell_type": "code",
      "source": [
        "weather_data = {}"
      ],
      "metadata": {
        "id": "N3wlr6YrCRRH"
      },
      "execution_count": 89,
      "outputs": []
    },
    {
      "cell_type": "markdown",
      "source": [
        "# Получение данных о погоде для каждого города"
      ],
      "metadata": {
        "id": "0OcF1kIdBjOl"
      }
    },
    {
      "cell_type": "code",
      "source": [
        "for city in cities:\n",
        "  data = get_weather(city, api_key)\n",
        "if data['cod'] == 200:  # Проверка успешного статуса ответа\n",
        "  weather_data[city] = data\n",
        "else:\n",
        "  print(f\"Ошибка при получении данных для города {city}: {data.get('message', 'Нет сообщения об ошибке')}\")"
      ],
      "metadata": {
        "id": "-_albjp663e6"
      },
      "execution_count": 90,
      "outputs": []
    },
    {
      "cell_type": "markdown",
      "source": [
        "# Сохранение данных в файл"
      ],
      "metadata": {
        "id": "ZtHUAA_uD-tY"
      }
    },
    {
      "cell_type": "code",
      "source": [
        "with open('weather_data.json', 'w', encoding='utf-8') as f:\n",
        "  json.dump(weather_data, f, ensure_ascii=False, indent=4)\n",
        "  print(\"Данные о погоде сохранены в файл 'weather_data.json'\")"
      ],
      "metadata": {
        "colab": {
          "base_uri": "https://localhost:8080/"
        },
        "id": "LV8kJiihf4Rk",
        "outputId": "769d1507-ca84-47a5-92cc-d92aeaceab2b"
      },
      "execution_count": 91,
      "outputs": [
        {
          "output_type": "stream",
          "name": "stdout",
          "text": [
            "Данные о погоде сохранены в файл 'weather_data.json'\n"
          ]
        }
      ]
    }
  ]
}